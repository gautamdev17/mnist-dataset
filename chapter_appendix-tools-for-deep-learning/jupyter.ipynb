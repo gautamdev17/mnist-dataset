{
  "cells": [
    {
      "cell_type": "markdown",
      "metadata": {
        "id": "view-in-github",
        "colab_type": "text"
      },
      "source": [
        "<a href=\"https://colab.research.google.com/github/gautamdev17/mnist-dataset/blob/main/chapter_appendix-tools-for-deep-learning/jupyter.ipynb\" target=\"_parent\"><img src=\"https://colab.research.google.com/assets/colab-badge.svg\" alt=\"Open In Colab\"/></a>"
      ]
    },
    {
      "cell_type": "markdown",
      "source": [
        "each sample/instance in the mnist dataset has 28x28 resolution images of handwritten digits"
      ],
      "metadata": {
        "id": "dJ1i8DQQU1pg"
      },
      "id": "dJ1i8DQQU1pg"
    },
    {
      "cell_type": "code",
      "source": [
        "import tensorflow as tf\n",
        "from tensorflow import keras\n",
        "import matplotlib.pyplot as plt\n",
        "import numpy as np\n",
        "%matplotlib inline"
      ],
      "metadata": {
        "id": "USWW2IRuVKtw"
      },
      "id": "USWW2IRuVKtw",
      "execution_count": 1,
      "outputs": []
    },
    {
      "cell_type": "code",
      "source": [
        "(X_train,y_train),(X_test,y_test) = keras.datasets.mnist.load_data()"
      ],
      "metadata": {
        "colab": {
          "base_uri": "https://localhost:8080/"
        },
        "id": "ECHfsdEtVh_B",
        "outputId": "9f49e8fb-57a6-4ea7-d8be-e2892cfb610f"
      },
      "id": "ECHfsdEtVh_B",
      "execution_count": 2,
      "outputs": [
        {
          "output_type": "stream",
          "name": "stdout",
          "text": [
            "Downloading data from https://storage.googleapis.com/tensorflow/tf-keras-datasets/mnist.npz\n",
            "\u001b[1m11490434/11490434\u001b[0m \u001b[32m━━━━━━━━━━━━━━━━━━━━\u001b[0m\u001b[37m\u001b[0m \u001b[1m0s\u001b[0m 0us/step\n"
          ]
        }
      ]
    },
    {
      "cell_type": "markdown",
      "source": [
        "the keras library will fetch the mnist dataset and it has a predefined split for the mnist dataset. it automatically divides the data into 60,000 samples for training and 10,000 samples for testing"
      ],
      "metadata": {
        "id": "esNiNZDrWMJg"
      },
      "id": "esNiNZDrWMJg"
    },
    {
      "cell_type": "code",
      "source": [],
      "metadata": {
        "id": "gh3TLo5UWJPo"
      },
      "id": "gh3TLo5UWJPo",
      "execution_count": null,
      "outputs": []
    }
  ],
  "metadata": {
    "kernelspec": {
      "display_name": "Python 3",
      "name": "python3"
    },
    "language_info": {
      "name": "python"
    },
    "required_libs": [],
    "colab": {
      "provenance": [],
      "include_colab_link": true
    }
  },
  "nbformat": 4,
  "nbformat_minor": 5
}